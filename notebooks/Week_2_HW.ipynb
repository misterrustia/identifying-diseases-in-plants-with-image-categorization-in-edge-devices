{
 "cells": [
  {
   "cell_type": "code",
   "execution_count": 1,
   "id": "de6fc809-d4b6-42cf-8797-2c10fd5b5be1",
   "metadata": {},
   "outputs": [],
   "source": [
    "import pandas as pd\n",
    "from keras.models import Sequential\n",
    "from keras.layers import Dense\n",
    "from keras.layers import Dropout\n",
    "from keras.wrappers.scikit_learn import KerasClassifier\n",
    "from sklearn.model_selection import cross_val_score\n",
    "from sklearn.preprocessing import LabelEncoder\n",
    "\n",
    "from sklearn.model_selection import train_test_split\n",
    "from sklearn.model_selection import StratifiedKFold\n",
    "\n",
    "from sklearn.preprocessing import StandardScaler\n",
    "from sklearn.pipeline import Pipeline\n",
    "import dabl \n",
    "import matplotlib.pyplot as plt\n",
    "import dc_stat_think as dcst\n",
    "\n",
    "from sklearn.metrics import confusion_matrix, classification_report"
   ]
  },
  {
   "cell_type": "markdown",
   "id": "e4f7875d-a3fb-4ce9-9c28-78101ad6ab10",
   "metadata": {},
   "source": [
    "Part A\n",
    "1. Train the model with the different regularizer that was taught in class -\n",
    "L1, L2, Dropout, and Early stopping\n",
    "a. Make a table and show the difference in metrics\n",
    "2. Train the models with different optimizers - SGD, RMSProp and ADAM\n",
    "a. Tweak the learning rate and momentum\n",
    "b. Note down the difference in metrics for each\n",
    "3. Make a table of Optimal Hyperparamets  [ no of epochs, best\n",
    "regulariser, the best optimizer ]"
   ]
  },
  {
   "cell_type": "code",
   "execution_count": 2,
   "id": "a29b4e1d-7666-4f60-93fe-8add9f3e06dc",
   "metadata": {},
   "outputs": [],
   "source": [
    "df = pd.read_csv('../data/diabetes.csv')"
   ]
  },
  {
   "cell_type": "code",
   "execution_count": 3,
   "id": "0ebaaa85-4186-4201-a573-38466fa23c76",
   "metadata": {},
   "outputs": [
    {
     "data": {
      "text/html": [
       "<div>\n",
       "<style scoped>\n",
       "    .dataframe tbody tr th:only-of-type {\n",
       "        vertical-align: middle;\n",
       "    }\n",
       "\n",
       "    .dataframe tbody tr th {\n",
       "        vertical-align: top;\n",
       "    }\n",
       "\n",
       "    .dataframe thead th {\n",
       "        text-align: right;\n",
       "    }\n",
       "</style>\n",
       "<table border=\"1\" class=\"dataframe\">\n",
       "  <thead>\n",
       "    <tr style=\"text-align: right;\">\n",
       "      <th></th>\n",
       "      <th>Pregnancies</th>\n",
       "      <th>Glucose</th>\n",
       "      <th>BloodPressure</th>\n",
       "      <th>SkinThickness</th>\n",
       "      <th>Insulin</th>\n",
       "      <th>BMI</th>\n",
       "      <th>DiabetesPedigreeFunction</th>\n",
       "      <th>Age</th>\n",
       "    </tr>\n",
       "  </thead>\n",
       "  <tbody>\n",
       "    <tr>\n",
       "      <th>0</th>\n",
       "      <td>6</td>\n",
       "      <td>148</td>\n",
       "      <td>72</td>\n",
       "      <td>35</td>\n",
       "      <td>0</td>\n",
       "      <td>33.6</td>\n",
       "      <td>0.627</td>\n",
       "      <td>50</td>\n",
       "    </tr>\n",
       "    <tr>\n",
       "      <th>1</th>\n",
       "      <td>1</td>\n",
       "      <td>85</td>\n",
       "      <td>66</td>\n",
       "      <td>29</td>\n",
       "      <td>0</td>\n",
       "      <td>26.6</td>\n",
       "      <td>0.351</td>\n",
       "      <td>31</td>\n",
       "    </tr>\n",
       "    <tr>\n",
       "      <th>2</th>\n",
       "      <td>8</td>\n",
       "      <td>183</td>\n",
       "      <td>64</td>\n",
       "      <td>0</td>\n",
       "      <td>0</td>\n",
       "      <td>23.3</td>\n",
       "      <td>0.672</td>\n",
       "      <td>32</td>\n",
       "    </tr>\n",
       "    <tr>\n",
       "      <th>3</th>\n",
       "      <td>1</td>\n",
       "      <td>89</td>\n",
       "      <td>66</td>\n",
       "      <td>23</td>\n",
       "      <td>94</td>\n",
       "      <td>28.1</td>\n",
       "      <td>0.167</td>\n",
       "      <td>21</td>\n",
       "    </tr>\n",
       "    <tr>\n",
       "      <th>4</th>\n",
       "      <td>0</td>\n",
       "      <td>137</td>\n",
       "      <td>40</td>\n",
       "      <td>35</td>\n",
       "      <td>168</td>\n",
       "      <td>43.1</td>\n",
       "      <td>2.288</td>\n",
       "      <td>33</td>\n",
       "    </tr>\n",
       "  </tbody>\n",
       "</table>\n",
       "</div>"
      ],
      "text/plain": [
       "   Pregnancies  Glucose  BloodPressure  SkinThickness  Insulin   BMI  \\\n",
       "0            6      148             72             35        0  33.6   \n",
       "1            1       85             66             29        0  26.6   \n",
       "2            8      183             64              0        0  23.3   \n",
       "3            1       89             66             23       94  28.1   \n",
       "4            0      137             40             35      168  43.1   \n",
       "\n",
       "   DiabetesPedigreeFunction  Age  \n",
       "0                     0.627   50  \n",
       "1                     0.351   31  \n",
       "2                     0.672   32  \n",
       "3                     0.167   21  \n",
       "4                     2.288   33  "
      ]
     },
     "execution_count": 3,
     "metadata": {},
     "output_type": "execute_result"
    }
   ],
   "source": [
    "Y = df.Outcome\n",
    "\n",
    "X = df.drop('Outcome',axis=1)\n",
    "X.head()"
   ]
  },
  {
   "cell_type": "code",
   "execution_count": 4,
   "id": "8ce410c4-6e03-423b-9cd5-328650c9bc51",
   "metadata": {},
   "outputs": [],
   "source": [
    "\n",
    "scaler = StandardScaler()\n",
    "X_scaled = scaler.fit_transform(X)\n",
    "X_train, X_test, y_train, y_test = train_test_split(X, Y, test_size=0.30, random_state=45)"
   ]
  },
  {
   "cell_type": "code",
   "execution_count": 5,
   "id": "2ebc657a-e582-4da0-a655-a2b7d8617782",
   "metadata": {},
   "outputs": [],
   "source": [
    "def create_baseline():\n",
    "    \n",
    "    model = Sequential()\n",
    "    model.add(Dense(10,input_dim=8,activation='relu'))\n",
    "    model.add(Dense(10,input_dim=10,activation='relu'))\n",
    "    model.add(Dense(10,input_dim=10,activation='relu'))\n",
    "    model.add(Dense(1,activation='sigmoid'))\n",
    "    \n",
    "    model.compile(loss='binary_crossentropy',optimizer='adam',metrics=['accuracy'])\n",
    "    return model"
   ]
  },
  {
   "cell_type": "code",
   "execution_count": 6,
   "id": "af9b0d59-866c-4330-a99d-8a63baec62f1",
   "metadata": {},
   "outputs": [
    {
     "name": "stderr",
     "output_type": "stream",
     "text": [
      "<ipython-input-6-58e2ee4cdf8c>:1: DeprecationWarning: KerasClassifier is deprecated, use Sci-Keras (https://github.com/adriangb/scikeras) instead. See https://www.adriangb.com/scikeras/stable/migration.html for help migrating.\n",
      "  estimator = KerasClassifier(build_fn=create_baseline,epochs=20,batch_size=5,verbose=0)\n"
     ]
    },
    {
     "name": "stdout",
     "output_type": "stream",
     "text": [
      "Baseline: 75.77% (3.18%)\n"
     ]
    }
   ],
   "source": [
    "estimator = KerasClassifier(build_fn=create_baseline,epochs=20,batch_size=5,verbose=0)\n",
    "\n",
    "kfold = StratifiedKFold(n_splits=5,shuffle=True)\n",
    "results = cross_val_score(estimator,X_scaled,Y,cv=kfold)\n",
    "\n",
    "print(\"Baseline: %.2f%% (%.2f%%)\" % (results.mean()*100, results.std()*100))"
   ]
  },
  {
   "cell_type": "markdown",
   "id": "b66d5959-d2e7-45a8-89da-3046e4829409",
   "metadata": {},
   "source": [
    "## 1\n",
    "- Train the model with the different regularizer that was taught in class - L1, L2, Dropout, and Early stopping a. Make a table and show the difference in metrics"
   ]
  },
  {
   "cell_type": "code",
   "execution_count": 7,
   "id": "361281e4-8a34-40f8-9aeb-81ab10a724e5",
   "metadata": {},
   "outputs": [],
   "source": [
    "scores  = {}\n"
   ]
  },
  {
   "cell_type": "code",
   "execution_count": 8,
   "id": "bdcfce2f-0d69-424c-bc73-36e828777bbc",
   "metadata": {},
   "outputs": [],
   "source": [
    "from tensorflow.keras import regularizers\n",
    "from tensorflow.keras.layers import Dropout\n",
    "from tensorflow.keras.callbacks import EarlyStopping"
   ]
  },
  {
   "cell_type": "code",
   "execution_count": 9,
   "id": "4064a5b9-6107-44f0-ae28-60dc63045197",
   "metadata": {},
   "outputs": [],
   "source": [
    "### baseline with no regularizers added "
   ]
  },
  {
   "cell_type": "code",
   "execution_count": 10,
   "id": "68ee24ae-ba11-4fed-bbb9-3f5c2474cb22",
   "metadata": {},
   "outputs": [
    {
     "name": "stderr",
     "output_type": "stream",
     "text": [
      "<ipython-input-10-2e87a21885d4>:11: DeprecationWarning: KerasClassifier is deprecated, use Sci-Keras (https://github.com/adriangb/scikeras) instead. See https://www.adriangb.com/scikeras/stable/migration.html for help migrating.\n",
      "  estimator = KerasClassifier(build_fn=create_baseline,epochs=50,batch_size=5,verbose=0)\n"
     ]
    },
    {
     "name": "stdout",
     "output_type": "stream",
     "text": [
      "Baseline: 74.61% (2.31%)\n"
     ]
    }
   ],
   "source": [
    "def create_baseline():\n",
    "    \n",
    "    model = Sequential()\n",
    "    model.add(Dense(10,input_dim=8,activation='relu'))\n",
    "    model.add(Dense(10,input_dim=10,activation='relu'))\n",
    "    model.add(Dense(10,input_dim=10,activation='relu'))\n",
    "    model.add(Dense(1,activation='sigmoid'))\n",
    "    \n",
    "    model.compile(loss='binary_crossentropy',optimizer='adam',metrics=['accuracy'])\n",
    "    return model\n",
    "estimator = KerasClassifier(build_fn=create_baseline,epochs=50,batch_size=5,verbose=0)\n",
    "\n",
    "kfold = StratifiedKFold(n_splits=5,shuffle=True)\n",
    "results = cross_val_score(estimator,X_scaled,Y,cv=kfold)\n",
    "\n",
    "print(\"Baseline: %.2f%% (%.2f%%)\" % (results.mean()*100, results.std()*100))\n",
    "\n",
    "scores['baseline']= [results.mean()*100, results.std()*100]"
   ]
  },
  {
   "cell_type": "code",
   "execution_count": 11,
   "id": "3f4b0ec0-fe7a-49eb-a6aa-aa8d37b2a9c0",
   "metadata": {},
   "outputs": [
    {
     "data": {
      "text/plain": [
       "{'baseline': [74.60826873779297, 2.3072956225034953]}"
      ]
     },
     "execution_count": 11,
     "metadata": {},
     "output_type": "execute_result"
    }
   ],
   "source": [
    "scores"
   ]
  },
  {
   "cell_type": "markdown",
   "id": "6822af73-1873-4c0b-9558-1688a9945745",
   "metadata": {},
   "source": [
    "### 1.1 L1 loss added to all layers"
   ]
  },
  {
   "cell_type": "code",
   "execution_count": 12,
   "id": "ddf18d3b-180f-4502-89f3-29b4e31a757e",
   "metadata": {},
   "outputs": [
    {
     "name": "stderr",
     "output_type": "stream",
     "text": [
      "<ipython-input-12-d29df8d5357e>:12: DeprecationWarning: KerasClassifier is deprecated, use Sci-Keras (https://github.com/adriangb/scikeras) instead. See https://www.adriangb.com/scikeras/stable/migration.html for help migrating.\n",
      "  estimator = KerasClassifier(build_fn=create_baseline,epochs=50,batch_size=5,verbose=0)\n"
     ]
    },
    {
     "name": "stdout",
     "output_type": "stream",
     "text": [
      "Baseline: 77.74% (2.76%)\n"
     ]
    }
   ],
   "source": [
    "def create_baseline():\n",
    "    \n",
    "    model = Sequential()\n",
    "    model.add(Dense(10,input_dim=8,activation='relu',kernel_regularizer=regularizers.L1(0.01)))\n",
    "    model.add(Dense(10,input_dim=10,activation='relu',kernel_regularizer=regularizers.L1(0.01)))\n",
    "    model.add(Dense(10,input_dim=10,activation='relu',kernel_regularizer=regularizers.L1(0.01)))\n",
    "    model.add(Dense(1,activation='sigmoid'))\n",
    "    \n",
    "    model.compile(loss='binary_crossentropy',optimizer='adam',metrics=['accuracy'])\n",
    "    return model\n",
    "\n",
    "estimator = KerasClassifier(build_fn=create_baseline,epochs=50,batch_size=5,verbose=0)\n",
    "\n",
    "kfold = StratifiedKFold(n_splits=5,shuffle=True)\n",
    "results = cross_val_score(estimator,X_scaled,Y,cv=kfold)\n",
    "\n",
    "print(\"Baseline: %.2f%% (%.2f%%)\" % (results.mean()*100, results.std()*100))\n",
    "scores['L1'] = [results.mean()*100, results.std()*100]"
   ]
  },
  {
   "cell_type": "code",
   "execution_count": 13,
   "id": "1710dd4d-e5a6-423a-ad2e-8258fd49b414",
   "metadata": {},
   "outputs": [
    {
     "data": {
      "text/plain": [
       "{'baseline': [74.60826873779297, 2.3072956225034953],\n",
       " 'L1': [77.73533701896667, 2.759601550404463]}"
      ]
     },
     "execution_count": 13,
     "metadata": {},
     "output_type": "execute_result"
    }
   ],
   "source": [
    "\n",
    "scores"
   ]
  },
  {
   "cell_type": "markdown",
   "id": "d0203c60-561a-4f1e-b3e8-a2287b77a8a0",
   "metadata": {},
   "source": [
    "### l1 regulaization where [ loss = l1 * reduce_sum(abs(x)) ] increased the baseline score by 2 % and decreased the standard deviation by 2 % \n",
    "\n",
    "\n",
    "### 1.2 L2 regularizer "
   ]
  },
  {
   "cell_type": "code",
   "execution_count": 14,
   "id": "4c3cb406-9b71-4dba-841d-64b1dafff491",
   "metadata": {},
   "outputs": [
    {
     "name": "stderr",
     "output_type": "stream",
     "text": [
      "<ipython-input-14-c0fb14970cb4>:12: DeprecationWarning: KerasClassifier is deprecated, use Sci-Keras (https://github.com/adriangb/scikeras) instead. See https://www.adriangb.com/scikeras/stable/migration.html for help migrating.\n",
      "  estimator = KerasClassifier(build_fn=create_baseline,epochs=50,batch_size=5,verbose=0)\n"
     ]
    },
    {
     "name": "stdout",
     "output_type": "stream",
     "text": [
      "Baseline: 77.08% (1.73%)\n"
     ]
    }
   ],
   "source": [
    "def create_baseline():\n",
    "    \n",
    "    model = Sequential()\n",
    "    model.add(Dense(10,input_dim=8,activation='relu',kernel_regularizer=regularizers.L2(0.01)))\n",
    "    model.add(Dense(10,input_dim=10,activation='relu',kernel_regularizer=regularizers.L2(0.01)))\n",
    "    model.add(Dense(10,input_dim=10,activation='relu',kernel_regularizer=regularizers.L2(0.01)))\n",
    "    model.add(Dense(1,activation='sigmoid'))\n",
    "    \n",
    "    model.compile(loss='binary_crossentropy',optimizer='adam',metrics=['accuracy'])\n",
    "    return model\n",
    "\n",
    "estimator = KerasClassifier(build_fn=create_baseline,epochs=50,batch_size=5,verbose=0)\n",
    "\n",
    "kfold = StratifiedKFold(n_splits=5,shuffle=True)\n",
    "results = cross_val_score(estimator,X_scaled,Y,cv=kfold)\n",
    "\n",
    "print(\"Baseline: %.2f%% (%.2f%%)\" % (results.mean()*100, results.std()*100))\n",
    "\n",
    "scores['L2'] = [results.mean()*100, results.std()*100]"
   ]
  },
  {
   "cell_type": "markdown",
   "id": "ba817784-b508-45aa-abcc-e5e774f95119",
   "metadata": {},
   "source": [
    "### 1.3 Dropout \n",
    "\n",
    "#### 1.3.1 all layers given drop out .5\n",
    "\n",
    "#### 1.3.2 dropout after last layer added"
   ]
  },
  {
   "cell_type": "code",
   "execution_count": 15,
   "id": "d9893b5b-7166-41d9-8020-a6083460bdd9",
   "metadata": {},
   "outputs": [
    {
     "name": "stderr",
     "output_type": "stream",
     "text": [
      "<ipython-input-15-459099051837>:15: DeprecationWarning: KerasClassifier is deprecated, use Sci-Keras (https://github.com/adriangb/scikeras) instead. See https://www.adriangb.com/scikeras/stable/migration.html for help migrating.\n",
      "  estimator = KerasClassifier(build_fn=create_baseline,epochs=50,batch_size=5,verbose=0)\n"
     ]
    },
    {
     "name": "stdout",
     "output_type": "stream",
     "text": [
      "Baseline: 76.69% (1.73%)\n"
     ]
    }
   ],
   "source": [
    "def create_baseline():\n",
    "    \n",
    "    model = Sequential()\n",
    "    model.add(Dense(10,input_dim=8,activation='relu'))\n",
    "    model.add(Dropout(0.5))\n",
    "    model.add(Dense(10,input_dim=10,activation='relu'))\n",
    "    model.add(Dropout(0.5))\n",
    "    model.add(Dense(10,input_dim=10,activation='relu'))\n",
    "    model.add(Dropout(0.5))\n",
    "    model.add(Dense(1,activation='sigmoid'))\n",
    "    \n",
    "    model.compile(loss='binary_crossentropy',optimizer='adam',metrics=['accuracy'])\n",
    "    return model\n",
    "\n",
    "estimator = KerasClassifier(build_fn=create_baseline,epochs=50,batch_size=5,verbose=0)\n",
    "\n",
    "kfold = StratifiedKFold(n_splits=5,shuffle=True)\n",
    "results = cross_val_score(estimator,X_scaled,Y,cv=kfold)\n",
    "\n",
    "print(\"Baseline: %.2f%% (%.2f%%)\" % (results.mean()*100, results.std()*100))\n",
    "\n",
    "scores['Dropout all layers'] = [results.mean()*100, results.std()*100]"
   ]
  },
  {
   "cell_type": "markdown",
   "id": "3bd1c5b4-dd50-4509-9457-df98484b55ef",
   "metadata": {},
   "source": [
    "#### 1.3.2 dropout after last layer added"
   ]
  },
  {
   "cell_type": "code",
   "execution_count": 16,
   "id": "71c63ab6-733e-4c94-b5ee-481baf5bcbd8",
   "metadata": {},
   "outputs": [
    {
     "name": "stderr",
     "output_type": "stream",
     "text": [
      "<ipython-input-16-95682f48c688>:15: DeprecationWarning: KerasClassifier is deprecated, use Sci-Keras (https://github.com/adriangb/scikeras) instead. See https://www.adriangb.com/scikeras/stable/migration.html for help migrating.\n",
      "  estimator = KerasClassifier(build_fn=create_baseline,epochs=50,batch_size=5,verbose=0)\n"
     ]
    },
    {
     "name": "stdout",
     "output_type": "stream",
     "text": [
      "Baseline: 76.16% (4.72%)\n"
     ]
    }
   ],
   "source": [
    "\n",
    "\n",
    "def create_baseline():\n",
    "    \n",
    "    model = Sequential()\n",
    "    model.add(Dense(10,input_dim=8,activation='relu'))\n",
    "\n",
    "    model.add(Dense(10,input_dim=10,activation='relu'))\n",
    "\n",
    "    model.add(Dense(10,input_dim=10,activation='relu'))\n",
    "    model.add(Dropout(0.5))\n",
    "    model.add(Dense(1,activation='sigmoid'))\n",
    "    \n",
    "    model.compile(loss='binary_crossentropy',optimizer='adam',metrics=['accuracy'])\n",
    "    return model\n",
    "\n",
    "estimator = KerasClassifier(build_fn=create_baseline,epochs=50,batch_size=5,verbose=0)\n",
    "\n",
    "kfold = StratifiedKFold(n_splits=5,shuffle=True)\n",
    "results = cross_val_score(estimator,X_scaled,Y,cv=kfold)\n",
    "\n",
    "print(\"Baseline: %.2f%% (%.2f%%)\" % (results.mean()*100, results.std()*100))\n",
    "\n",
    "scores['Dropout_last_layer'] = [results.mean()*100, results.std()*100]"
   ]
  },
  {
   "cell_type": "markdown",
   "id": "5660bc38-692a-45a8-90ca-156f49fb6c30",
   "metadata": {},
   "source": [
    "### 1.4 early stopping\n",
    "\n"
   ]
  },
  {
   "cell_type": "code",
   "execution_count": 17,
   "id": "6dc26087-1ad4-4ecb-ac24-92a4dc4187ab",
   "metadata": {},
   "outputs": [
    {
     "name": "stderr",
     "output_type": "stream",
     "text": [
      "<ipython-input-17-19f43ef1346e>:17: DeprecationWarning: KerasClassifier is deprecated, use Sci-Keras (https://github.com/adriangb/scikeras) instead. See https://www.adriangb.com/scikeras/stable/migration.html for help migrating.\n",
      "  estimator = KerasClassifier(build_fn=create_baseline,epochs=50,batch_size=5,verbose=0,callbacks=[callback])\n"
     ]
    },
    {
     "name": "stdout",
     "output_type": "stream",
     "text": [
      "Baseline: 76.17% (3.14%)\n"
     ]
    }
   ],
   "source": [
    "\n",
    "\n",
    "def create_baseline():\n",
    "    \n",
    "    model = Sequential()\n",
    "    model.add(Dense(10,input_dim=8,activation='relu',kernel_regularizer=regularizers.L2(0.01)))\n",
    "\n",
    "    model.add(Dense(10,input_dim=10,activation='relu',kernel_regularizer=regularizers.L2(0.01)))\n",
    "\n",
    "    model.add(Dense(10,input_dim=10,activation='relu',kernel_regularizer=regularizers.L2(0.01)))\n",
    " \n",
    "    model.add(Dense(1,activation='sigmoid'))\n",
    "    \n",
    "    model.compile(loss='binary_crossentropy',optimizer='adam',metrics=['accuracy'])\n",
    "    return model\n",
    "\n",
    "# add early stoping to stop training if loss does not decrease in 3 epocs \n",
    "callback = EarlyStopping(monitor='loss', patience=3)\n",
    "estimator = KerasClassifier(build_fn=create_baseline,epochs=50,batch_size=5,verbose=0,callbacks=[callback])\n",
    "\n",
    "kfold = StratifiedKFold(n_splits=5,shuffle=True)\n",
    "results = cross_val_score(estimator,X_scaled,Y,cv=kfold)\n",
    "\n",
    "print(\"Baseline: %.2f%% (%.2f%%)\" % (results.mean()*100, results.std()*100))\n",
    "\n",
    "scores['Early_stopping_layer'] = [results.mean()*100, results.std()*100]"
   ]
  },
  {
   "cell_type": "code",
   "execution_count": null,
   "id": "48579408-c558-46c2-b5b5-cb6ca3824610",
   "metadata": {},
   "outputs": [],
   "source": []
  },
  {
   "cell_type": "code",
   "execution_count": 18,
   "id": "4c91d2a3-be76-4bce-b306-5093b8f6e49c",
   "metadata": {},
   "outputs": [
    {
     "name": "stderr",
     "output_type": "stream",
     "text": [
      "<ipython-input-18-744c93e36e52>:17: DeprecationWarning: KerasClassifier is deprecated, use Sci-Keras (https://github.com/adriangb/scikeras) instead. See https://www.adriangb.com/scikeras/stable/migration.html for help migrating.\n",
      "  estimator = KerasClassifier(build_fn=create_baseline,epochs=50,batch_size=5,verbose=0,callbacks=[callback])\n"
     ]
    },
    {
     "name": "stdout",
     "output_type": "stream",
     "text": [
      "Baseline: 69.01% (4.15%)\n"
     ]
    }
   ],
   "source": [
    "\n",
    "\n",
    "def create_baseline():\n",
    "    \n",
    "    model = Sequential()\n",
    "    model.add(Dense(10,input_dim=8,activation='relu'))\n",
    "    model.add(Dropout(0.5))\n",
    "    model.add(Dense(10,input_dim=10,activation='relu'))\n",
    "    model.add(Dropout(0.5))\n",
    "    model.add(Dense(10,input_dim=10,activation='relu'))\n",
    "    model.add(Dropout(0.5))\n",
    "    model.add(Dense(1,activation='sigmoid'))\n",
    "    \n",
    "    model.compile(loss='binary_crossentropy',optimizer='adam',metrics=['accuracy'])\n",
    "    return model\n",
    "\n",
    "# add early stoping to stop training if loss does not decrease in 3 epocs \n",
    "callback = EarlyStopping(monitor='loss', patience=3)\n",
    "estimator = KerasClassifier(build_fn=create_baseline,epochs=50,batch_size=5,verbose=0,callbacks=[callback])\n",
    "\n",
    "kfold = StratifiedKFold(n_splits=5,shuffle=True)\n",
    "results = cross_val_score(estimator,X_scaled,Y,cv=kfold)\n",
    "\n",
    "print(\"Baseline: %.2f%% (%.2f%%)\" % (results.mean()*100, results.std()*100))\n",
    "\n",
    "scores['all regularization added'] = [results.mean()*100, results.std()*100]"
   ]
  },
  {
   "cell_type": "code",
   "execution_count": 19,
   "id": "eb5f2631-d595-418a-9d83-66756ef7a1d6",
   "metadata": {},
   "outputs": [
    {
     "name": "stderr",
     "output_type": "stream",
     "text": [
      "<ipython-input-19-671de014f390>:17: DeprecationWarning: KerasClassifier is deprecated, use Sci-Keras (https://github.com/adriangb/scikeras) instead. See https://www.adriangb.com/scikeras/stable/migration.html for help migrating.\n",
      "  estimator = KerasClassifier(build_fn=create_baseline,epochs=100,batch_size=5,verbose=0,callbacks=[callback])\n"
     ]
    },
    {
     "name": "stdout",
     "output_type": "stream",
     "text": [
      "Baseline: 66.28% (1.74%)\n"
     ]
    }
   ],
   "source": [
    "\n",
    "\n",
    "def create_baseline():\n",
    "    \n",
    "    model = Sequential()\n",
    "    model.add(Dense(10,input_dim=8,activation='relu'))\n",
    "    model.add(Dropout(0.5))\n",
    "    model.add(Dense(10,input_dim=10,activation='relu'))\n",
    "    model.add(Dropout(0.5))\n",
    "    model.add(Dense(10,input_dim=10,activation='relu'))\n",
    "    model.add(Dropout(0.5))\n",
    "    model.add(Dense(1,activation='sigmoid'))\n",
    "    \n",
    "    model.compile(loss='binary_crossentropy',optimizer='adam',metrics=['accuracy'])\n",
    "    return model\n",
    "\n",
    "# add early stoping to stop training if loss does not decrease in 3 epocs \n",
    "callback = EarlyStopping(monitor='loss', patience=3)\n",
    "estimator = KerasClassifier(build_fn=create_baseline,epochs=100,batch_size=5,verbose=0,callbacks=[callback])\n",
    "\n",
    "kfold = StratifiedKFold(n_splits=5,shuffle=True)\n",
    "results = cross_val_score(estimator,X_scaled,Y,cv=kfold)\n",
    "\n",
    "print(\"Baseline: %.2f%% (%.2f%%)\" % (results.mean()*100, results.std()*100))\n",
    "\n",
    "scores['all regularization 100 epoch'] = [results.mean()*100, results.std()*100]"
   ]
  },
  {
   "cell_type": "code",
   "execution_count": 22,
   "id": "306472ff-8353-4b73-9dfa-f8ea91475224",
   "metadata": {},
   "outputs": [
    {
     "name": "stderr",
     "output_type": "stream",
     "text": [
      "<ipython-input-22-b1ff4a65f237>:17: DeprecationWarning: KerasClassifier is deprecated, use Sci-Keras (https://github.com/adriangb/scikeras) instead. See https://www.adriangb.com/scikeras/stable/migration.html for help migrating.\n",
      "  estimator = KerasClassifier(build_fn=create_baseline,epochs=20,batch_size=5,verbose=0,callbacks=[callback])\n"
     ]
    },
    {
     "name": "stdout",
     "output_type": "stream",
     "text": [
      "Baseline: 65.75% (0.71%)\n"
     ]
    }
   ],
   "source": [
    "\n",
    "\n",
    "def create_baseline():\n",
    "    \n",
    "    model = Sequential()\n",
    "    model.add(Dense(10,input_dim=8,activation='relu'))\n",
    "    model.add(Dropout(0.5))\n",
    "    model.add(Dense(10,input_dim=10,activation='relu'))\n",
    "    model.add(Dropout(0.5))\n",
    "    model.add(Dense(10,input_dim=10,activation='relu'))\n",
    "    model.add(Dropout(0.5))\n",
    "    model.add(Dense(1,activation='sigmoid'))\n",
    "    \n",
    "    model.compile(loss='binary_crossentropy',optimizer='adam',metrics=['accuracy'])\n",
    "    return model\n",
    "\n",
    "# add early stoping to stop training if loss does not decrease in 3 epocs \n",
    "callback = EarlyStopping(monitor='loss', patience=3)\n",
    "estimator = KerasClassifier(build_fn=create_baseline,epochs=20,batch_size=5,verbose=0,callbacks=[callback])\n",
    "\n",
    "kfold = StratifiedKFold(n_splits=5,shuffle=True)\n",
    "results = cross_val_score(estimator,X_scaled,Y,cv=kfold)\n",
    "\n",
    "print(\"Baseline: %.2f%% (%.2f%%)\" % (results.mean()*100, results.std()*100))\n",
    "\n",
    "scores['all regularization 20 epoch'] = [results.mean()*100, results.std()*100]"
   ]
  },
  {
   "cell_type": "code",
   "execution_count": 23,
   "id": "8fad3c11-c832-455c-9c1b-019fcc8d9c7d",
   "metadata": {},
   "outputs": [
    {
     "data": {
      "text/html": [
       "<div>\n",
       "<style scoped>\n",
       "    .dataframe tbody tr th:only-of-type {\n",
       "        vertical-align: middle;\n",
       "    }\n",
       "\n",
       "    .dataframe tbody tr th {\n",
       "        vertical-align: top;\n",
       "    }\n",
       "\n",
       "    .dataframe thead th {\n",
       "        text-align: right;\n",
       "    }\n",
       "</style>\n",
       "<table border=\"1\" class=\"dataframe\">\n",
       "  <thead>\n",
       "    <tr style=\"text-align: right;\">\n",
       "      <th></th>\n",
       "      <th>Avg_score</th>\n",
       "      <th>Std of scores</th>\n",
       "    </tr>\n",
       "  </thead>\n",
       "  <tbody>\n",
       "    <tr>\n",
       "      <th>L1</th>\n",
       "      <td>77.735337</td>\n",
       "      <td>2.759602</td>\n",
       "    </tr>\n",
       "    <tr>\n",
       "      <th>L2</th>\n",
       "      <td>77.081742</td>\n",
       "      <td>1.733154</td>\n",
       "    </tr>\n",
       "    <tr>\n",
       "      <th>Dropout all layers</th>\n",
       "      <td>76.691282</td>\n",
       "      <td>1.732569</td>\n",
       "    </tr>\n",
       "    <tr>\n",
       "      <th>Early_stopping_layer</th>\n",
       "      <td>76.172652</td>\n",
       "      <td>3.140303</td>\n",
       "    </tr>\n",
       "    <tr>\n",
       "      <th>Dropout_last_layer</th>\n",
       "      <td>76.163313</td>\n",
       "      <td>4.722879</td>\n",
       "    </tr>\n",
       "    <tr>\n",
       "      <th>baseline</th>\n",
       "      <td>74.608269</td>\n",
       "      <td>2.307296</td>\n",
       "    </tr>\n",
       "    <tr>\n",
       "      <th>all regularization added</th>\n",
       "      <td>69.011968</td>\n",
       "      <td>4.152847</td>\n",
       "    </tr>\n",
       "    <tr>\n",
       "      <th>all regularization 100 epoch</th>\n",
       "      <td>66.277057</td>\n",
       "      <td>1.744875</td>\n",
       "    </tr>\n",
       "    <tr>\n",
       "      <th>all regularization 20 epoch</th>\n",
       "      <td>65.754181</td>\n",
       "      <td>0.705270</td>\n",
       "    </tr>\n",
       "  </tbody>\n",
       "</table>\n",
       "</div>"
      ],
      "text/plain": [
       "                              Avg_score  Std of scores\n",
       "L1                            77.735337       2.759602\n",
       "L2                            77.081742       1.733154\n",
       "Dropout all layers            76.691282       1.732569\n",
       "Early_stopping_layer          76.172652       3.140303\n",
       "Dropout_last_layer            76.163313       4.722879\n",
       "baseline                      74.608269       2.307296\n",
       "all regularization added      69.011968       4.152847\n",
       "all regularization 100 epoch  66.277057       1.744875\n",
       "all regularization 20 epoch   65.754181       0.705270"
      ]
     },
     "execution_count": 23,
     "metadata": {},
     "output_type": "execute_result"
    }
   ],
   "source": [
    "table =pd.DataFrame(scores).T\n",
    "table.columns=['Avg_score','Std of scores']\n",
    "table.sort_values(by='Avg_score',ascending=False)"
   ]
  },
  {
   "cell_type": "markdown",
   "id": "85a66136-8f6b-4f39-9c77-3e8594815799",
   "metadata": {},
   "source": [
    "### Insight\n",
    "\n",
    "The increases in scores from the different regularization techinques showed marginal gains and increases in score could not be statistically significat. classification reports and f1 scores might show more difference between the techniques. Using all techniques togeather generated lower scores than than using a single technique."
   ]
  },
  {
   "cell_type": "code",
   "execution_count": null,
   "id": "0b75ac45-853c-4b18-bf8e-01c51a4783ef",
   "metadata": {},
   "outputs": [],
   "source": []
  }
 ],
 "metadata": {
  "kernelspec": {
   "display_name": "Python 3",
   "language": "python",
   "name": "python3"
  },
  "language_info": {
   "codemirror_mode": {
    "name": "ipython",
    "version": 3
   },
   "file_extension": ".py",
   "mimetype": "text/x-python",
   "name": "python",
   "nbconvert_exporter": "python",
   "pygments_lexer": "ipython3",
   "version": "3.8.8"
  }
 },
 "nbformat": 4,
 "nbformat_minor": 5
}
